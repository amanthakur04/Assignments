{
 "cells": [
  {
   "cell_type": "code",
   "execution_count": null,
   "id": "ec1cb1b3-84f9-4251-9817-cd17f15f9aa7",
   "metadata": {},
   "outputs": [],
   "source": [
    "Answer1  : Guido van Rossum"
   ]
  },
  {
   "cell_type": "code",
   "execution_count": null,
   "id": "a7fffbda-0fd6-4ff2-acbd-de2d408eed38",
   "metadata": {},
   "outputs": [],
   "source": [
    "Answer2  :  Object oriented programming and structured programming"
   ]
  },
  {
   "cell_type": "code",
   "execution_count": null,
   "id": "043781bb-954c-474f-a4b2-209cad449447",
   "metadata": {},
   "outputs": [],
   "source": [
    "Answer3  : yes"
   ]
  },
  {
   "cell_type": "code",
   "execution_count": null,
   "id": "455b199e-a46e-4eca-ae60-93ad6b4ed339",
   "metadata": {},
   "outputs": [],
   "source": [
    "Answer4  : .py"
   ]
  },
  {
   "cell_type": "code",
   "execution_count": null,
   "id": "702ae25a-6d38-4998-9f6f-c4f77a943303",
   "metadata": {},
   "outputs": [],
   "source": [
    "Answer5  : interpreted"
   ]
  },
  {
   "cell_type": "code",
   "execution_count": null,
   "id": "3f6c9f2c-e9fc-4da5-b5e0-96e8f3811d88",
   "metadata": {},
   "outputs": [],
   "source": [
    "Answer6  : module,function body and class definition."
   ]
  },
  {
   "cell_type": "code",
   "execution_count": null,
   "id": "00b5f518-e40a-474e-ad30-e178a63f6538",
   "metadata": {},
   "outputs": [],
   "source": [
    "Answer7  : Hash charecter (#)"
   ]
  },
  {
   "cell_type": "code",
   "execution_count": null,
   "id": "b5a101f9-b0ac-4d17-ae35-164f607d46aa",
   "metadata": {},
   "outputs": [],
   "source": [
    "Answer8  : "
   ]
  },
  {
   "cell_type": "code",
   "execution_count": null,
   "id": "baf72de9-4a60-48fb-8d9e-64c99345e17b",
   "metadata": {},
   "outputs": [],
   "source": [
    "Answer9  : lambda"
   ]
  },
  {
   "cell_type": "code",
   "execution_count": null,
   "id": "f31d5bfa-3f5a-46d0-809f-2b1540688ba4",
   "metadata": {},
   "outputs": [],
   "source": [
    "Answer10  : preffered installation program"
   ]
  },
  {
   "cell_type": "code",
   "execution_count": null,
   "id": "575ec445-c219-4080-9089-587cc3840b65",
   "metadata": {},
   "outputs": [],
   "source": [
    "Answer11  : print,sum,type,max,round,inpute,len and many more"
   ]
  },
  {
   "cell_type": "code",
   "execution_count": null,
   "id": "1f651a62-77a5-4e9c-8d85-ec7c33558dfd",
   "metadata": {},
   "outputs": [],
   "source": [
    "Answer12  : 79 charecter"
   ]
  },
  {
   "cell_type": "code",
   "execution_count": null,
   "id": "16cd28fc-b278-4ce6-a9d1-a4fd921a40cb",
   "metadata": {},
   "outputs": [],
   "source": [
    "Answer13  : learn coding,data handling"
   ]
  },
  {
   "cell_type": "code",
   "execution_count": null,
   "id": "a98d61d0-a4ed-4ac6-a7ff-549edc813e5e",
   "metadata": {},
   "outputs": [],
   "source": [
    "Answer14  : involves a private heap containing all Python objects and data structures."
   ]
  },
  {
   "cell_type": "code",
   "execution_count": null,
   "id": "967e9c34-4b9a-4014-8bfa-8c2d45486d46",
   "metadata": {},
   "outputs": [],
   "source": []
  },
  {
   "cell_type": "code",
   "execution_count": null,
   "id": "28d97153-1520-447f-ac7d-27470adb8bbf",
   "metadata": {},
   "outputs": [],
   "source": [
    "Answer15  : \n",
    "\n",
    "    Right-clicking This PC and going to Properties.\n",
    "\n",
    "Clicking on the Advanced system settings in the menu on the left.\n",
    "\n",
    "Clicking on the Environment Variables button o​n the bottom right.\n",
    "\n",
    "In the System variables section, selecting the Path variable and clicking on Edit. The next screen will show all the directories that are currently a part of the PATH variable.\n",
    "\n",
    "Clicking on New and entering Python’s install directory."
   ]
  },
  {
   "cell_type": "code",
   "execution_count": null,
   "id": "c30ededb-ab2a-4e3a-98c2-dd7d4ce3bd13",
   "metadata": {},
   "outputs": [],
   "source": [
    "Answer16  :the indentation in Python is very important"
   ]
  }
 ],
 "metadata": {
  "kernelspec": {
   "display_name": "Python 3 (ipykernel)",
   "language": "python",
   "name": "python3"
  },
  "language_info": {
   "codemirror_mode": {
    "name": "ipython",
    "version": 3
   },
   "file_extension": ".py",
   "mimetype": "text/x-python",
   "name": "python",
   "nbconvert_exporter": "python",
   "pygments_lexer": "ipython3",
   "version": "3.10.8"
  }
 },
 "nbformat": 4,
 "nbformat_minor": 5
}
